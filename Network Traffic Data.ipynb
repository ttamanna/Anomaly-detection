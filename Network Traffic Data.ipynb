{
 "cells": [
  {
   "cell_type": "markdown",
   "metadata": {},
   "source": [
    "# Anomaly Detection:  Network Traffic Data"
   ]
  },
  {
   "cell_type": "markdown",
   "metadata": {},
   "source": [
    "This is the data set used for a competition. The competition task was to build a network intrusion detector, a predictive model capable of distinguishing between “bad” connections, called intrusions or attacks, and “good” normal connections. This database contains a standard set of data to be audited, which includes a wide variety of intrusions simulated in a military network environment. To facilitate your data analysis process, we have done sampling and data pre-processing for you. All the features are named as “Feature #”, and the last attribute is the label. The label just has two values (1 for normal data and -1 for anomalies).\n"
   ]
  },
  {
   "cell_type": "code",
   "execution_count": 2,
   "metadata": {},
   "outputs": [],
   "source": [
    "import numpy as np\n",
    "import pandas as pd"
   ]
  },
  {
   "cell_type": "code",
   "execution_count": 3,
   "metadata": {},
   "outputs": [],
   "source": [
    "import math\n",
    "from matplotlib import pyplot as plt\n",
    "\n",
    "# Pre-processing\n",
    "from sklearn import preprocessing\n",
    "\n",
    "# Anomaly Detection\n",
    "from sklearn.neighbors import LocalOutlierFactor\n",
    "from sklearn.ensemble import IsolationForest\n",
    "from sklearn.metrics import roc_auc_score\n",
    "\n",
    "import warnings\n",
    "warnings.filterwarnings(\"ignore\")"
   ]
  },
  {
   "cell_type": "code",
   "execution_count": 4,
   "metadata": {},
   "outputs": [
    {
     "data": {
      "text/html": [
       "<div>\n",
       "<style scoped>\n",
       "    .dataframe tbody tr th:only-of-type {\n",
       "        vertical-align: middle;\n",
       "    }\n",
       "\n",
       "    .dataframe tbody tr th {\n",
       "        vertical-align: top;\n",
       "    }\n",
       "\n",
       "    .dataframe thead th {\n",
       "        text-align: right;\n",
       "    }\n",
       "</style>\n",
       "<table border=\"1\" class=\"dataframe\">\n",
       "  <thead>\n",
       "    <tr style=\"text-align: right;\">\n",
       "      <th></th>\n",
       "      <th>Feature 1</th>\n",
       "      <th>Feature 2</th>\n",
       "      <th>Feature 3</th>\n",
       "      <th>Feature 4</th>\n",
       "      <th>Feature 5</th>\n",
       "      <th>Feature 6</th>\n",
       "      <th>Feature 7</th>\n",
       "      <th>Feature 8</th>\n",
       "      <th>Feature 9</th>\n",
       "      <th>Feature 10</th>\n",
       "      <th>...</th>\n",
       "      <th>Feature 30</th>\n",
       "      <th>Feature 31</th>\n",
       "      <th>Feature 32</th>\n",
       "      <th>Feature 33</th>\n",
       "      <th>Feature 34</th>\n",
       "      <th>Feature 35</th>\n",
       "      <th>Feature 36</th>\n",
       "      <th>Feature 37</th>\n",
       "      <th>Feature 38</th>\n",
       "      <th>Label</th>\n",
       "    </tr>\n",
       "  </thead>\n",
       "  <tbody>\n",
       "    <tr>\n",
       "      <th>0</th>\n",
       "      <td>0.000000</td>\n",
       "      <td>3.370000e-07</td>\n",
       "      <td>0.000049</td>\n",
       "      <td>0</td>\n",
       "      <td>0.0</td>\n",
       "      <td>0</td>\n",
       "      <td>0.0</td>\n",
       "      <td>0.0</td>\n",
       "      <td>1</td>\n",
       "      <td>0.0</td>\n",
       "      <td>...</td>\n",
       "      <td>0.858824</td>\n",
       "      <td>1.0</td>\n",
       "      <td>0.0</td>\n",
       "      <td>0.01</td>\n",
       "      <td>0.03</td>\n",
       "      <td>0.0</td>\n",
       "      <td>0.00</td>\n",
       "      <td>0.0</td>\n",
       "      <td>0.0</td>\n",
       "      <td>1</td>\n",
       "    </tr>\n",
       "    <tr>\n",
       "      <th>1</th>\n",
       "      <td>0.000000</td>\n",
       "      <td>3.480000e-07</td>\n",
       "      <td>0.000050</td>\n",
       "      <td>0</td>\n",
       "      <td>0.0</td>\n",
       "      <td>0</td>\n",
       "      <td>0.0</td>\n",
       "      <td>0.0</td>\n",
       "      <td>1</td>\n",
       "      <td>0.0</td>\n",
       "      <td>...</td>\n",
       "      <td>0.898039</td>\n",
       "      <td>1.0</td>\n",
       "      <td>0.0</td>\n",
       "      <td>0.01</td>\n",
       "      <td>0.03</td>\n",
       "      <td>0.0</td>\n",
       "      <td>0.00</td>\n",
       "      <td>0.0</td>\n",
       "      <td>0.0</td>\n",
       "      <td>1</td>\n",
       "    </tr>\n",
       "    <tr>\n",
       "      <th>2</th>\n",
       "      <td>0.000000</td>\n",
       "      <td>3.420000e-07</td>\n",
       "      <td>0.000328</td>\n",
       "      <td>0</td>\n",
       "      <td>0.0</td>\n",
       "      <td>0</td>\n",
       "      <td>0.0</td>\n",
       "      <td>0.0</td>\n",
       "      <td>1</td>\n",
       "      <td>0.0</td>\n",
       "      <td>...</td>\n",
       "      <td>1.000000</td>\n",
       "      <td>1.0</td>\n",
       "      <td>0.0</td>\n",
       "      <td>0.10</td>\n",
       "      <td>0.05</td>\n",
       "      <td>0.0</td>\n",
       "      <td>0.00</td>\n",
       "      <td>0.0</td>\n",
       "      <td>0.0</td>\n",
       "      <td>1</td>\n",
       "    </tr>\n",
       "    <tr>\n",
       "      <th>3</th>\n",
       "      <td>0.000000</td>\n",
       "      <td>4.280000e-07</td>\n",
       "      <td>0.000388</td>\n",
       "      <td>0</td>\n",
       "      <td>0.0</td>\n",
       "      <td>0</td>\n",
       "      <td>0.0</td>\n",
       "      <td>0.0</td>\n",
       "      <td>1</td>\n",
       "      <td>0.0</td>\n",
       "      <td>...</td>\n",
       "      <td>1.000000</td>\n",
       "      <td>1.0</td>\n",
       "      <td>0.0</td>\n",
       "      <td>0.00</td>\n",
       "      <td>0.01</td>\n",
       "      <td>0.0</td>\n",
       "      <td>0.00</td>\n",
       "      <td>0.0</td>\n",
       "      <td>0.0</td>\n",
       "      <td>1</td>\n",
       "    </tr>\n",
       "    <tr>\n",
       "      <th>4</th>\n",
       "      <td>0.000000</td>\n",
       "      <td>2.900000e-07</td>\n",
       "      <td>0.000664</td>\n",
       "      <td>0</td>\n",
       "      <td>0.0</td>\n",
       "      <td>0</td>\n",
       "      <td>0.0</td>\n",
       "      <td>0.0</td>\n",
       "      <td>1</td>\n",
       "      <td>0.0</td>\n",
       "      <td>...</td>\n",
       "      <td>1.000000</td>\n",
       "      <td>1.0</td>\n",
       "      <td>0.0</td>\n",
       "      <td>0.00</td>\n",
       "      <td>0.00</td>\n",
       "      <td>0.0</td>\n",
       "      <td>0.00</td>\n",
       "      <td>0.0</td>\n",
       "      <td>0.0</td>\n",
       "      <td>1</td>\n",
       "    </tr>\n",
       "    <tr>\n",
       "      <th>...</th>\n",
       "      <td>...</td>\n",
       "      <td>...</td>\n",
       "      <td>...</td>\n",
       "      <td>...</td>\n",
       "      <td>...</td>\n",
       "      <td>...</td>\n",
       "      <td>...</td>\n",
       "      <td>...</td>\n",
       "      <td>...</td>\n",
       "      <td>...</td>\n",
       "      <td>...</td>\n",
       "      <td>...</td>\n",
       "      <td>...</td>\n",
       "      <td>...</td>\n",
       "      <td>...</td>\n",
       "      <td>...</td>\n",
       "      <td>...</td>\n",
       "      <td>...</td>\n",
       "      <td>...</td>\n",
       "      <td>...</td>\n",
       "      <td>...</td>\n",
       "    </tr>\n",
       "    <tr>\n",
       "      <th>6960</th>\n",
       "      <td>0.002057</td>\n",
       "      <td>4.020000e-07</td>\n",
       "      <td>0.000033</td>\n",
       "      <td>0</td>\n",
       "      <td>0.0</td>\n",
       "      <td>0</td>\n",
       "      <td>0.0</td>\n",
       "      <td>0.0</td>\n",
       "      <td>1</td>\n",
       "      <td>0.0</td>\n",
       "      <td>...</td>\n",
       "      <td>1.000000</td>\n",
       "      <td>1.0</td>\n",
       "      <td>0.0</td>\n",
       "      <td>0.03</td>\n",
       "      <td>0.07</td>\n",
       "      <td>0.0</td>\n",
       "      <td>0.00</td>\n",
       "      <td>0.0</td>\n",
       "      <td>0.0</td>\n",
       "      <td>1</td>\n",
       "    </tr>\n",
       "    <tr>\n",
       "      <th>6961</th>\n",
       "      <td>0.000000</td>\n",
       "      <td>3.970000e-07</td>\n",
       "      <td>0.000048</td>\n",
       "      <td>0</td>\n",
       "      <td>0.0</td>\n",
       "      <td>0</td>\n",
       "      <td>0.0</td>\n",
       "      <td>0.0</td>\n",
       "      <td>1</td>\n",
       "      <td>0.0</td>\n",
       "      <td>...</td>\n",
       "      <td>1.000000</td>\n",
       "      <td>1.0</td>\n",
       "      <td>0.0</td>\n",
       "      <td>0.50</td>\n",
       "      <td>0.08</td>\n",
       "      <td>0.0</td>\n",
       "      <td>0.00</td>\n",
       "      <td>0.0</td>\n",
       "      <td>0.0</td>\n",
       "      <td>1</td>\n",
       "    </tr>\n",
       "    <tr>\n",
       "      <th>6962</th>\n",
       "      <td>0.000000</td>\n",
       "      <td>4.700000e-07</td>\n",
       "      <td>0.000904</td>\n",
       "      <td>0</td>\n",
       "      <td>0.0</td>\n",
       "      <td>0</td>\n",
       "      <td>0.0</td>\n",
       "      <td>0.0</td>\n",
       "      <td>1</td>\n",
       "      <td>0.0</td>\n",
       "      <td>...</td>\n",
       "      <td>1.000000</td>\n",
       "      <td>1.0</td>\n",
       "      <td>0.0</td>\n",
       "      <td>0.04</td>\n",
       "      <td>0.10</td>\n",
       "      <td>0.0</td>\n",
       "      <td>0.00</td>\n",
       "      <td>0.0</td>\n",
       "      <td>0.0</td>\n",
       "      <td>1</td>\n",
       "    </tr>\n",
       "    <tr>\n",
       "      <th>6963</th>\n",
       "      <td>0.000000</td>\n",
       "      <td>3.490000e-07</td>\n",
       "      <td>0.001371</td>\n",
       "      <td>0</td>\n",
       "      <td>0.0</td>\n",
       "      <td>0</td>\n",
       "      <td>0.0</td>\n",
       "      <td>0.0</td>\n",
       "      <td>1</td>\n",
       "      <td>0.0</td>\n",
       "      <td>...</td>\n",
       "      <td>1.000000</td>\n",
       "      <td>1.0</td>\n",
       "      <td>0.0</td>\n",
       "      <td>0.02</td>\n",
       "      <td>0.05</td>\n",
       "      <td>0.0</td>\n",
       "      <td>0.00</td>\n",
       "      <td>0.0</td>\n",
       "      <td>0.0</td>\n",
       "      <td>1</td>\n",
       "    </tr>\n",
       "    <tr>\n",
       "      <th>6964</th>\n",
       "      <td>0.000000</td>\n",
       "      <td>4.170000e-07</td>\n",
       "      <td>0.000361</td>\n",
       "      <td>0</td>\n",
       "      <td>0.0</td>\n",
       "      <td>0</td>\n",
       "      <td>0.0</td>\n",
       "      <td>0.0</td>\n",
       "      <td>1</td>\n",
       "      <td>0.0</td>\n",
       "      <td>...</td>\n",
       "      <td>1.000000</td>\n",
       "      <td>1.0</td>\n",
       "      <td>0.0</td>\n",
       "      <td>0.01</td>\n",
       "      <td>0.05</td>\n",
       "      <td>0.0</td>\n",
       "      <td>0.01</td>\n",
       "      <td>0.0</td>\n",
       "      <td>0.0</td>\n",
       "      <td>1</td>\n",
       "    </tr>\n",
       "  </tbody>\n",
       "</table>\n",
       "<p>6965 rows × 39 columns</p>\n",
       "</div>"
      ],
      "text/plain": [
       "      Feature 1     Feature 2  Feature 3  Feature 4  Feature 5  Feature 6  \\\n",
       "0      0.000000  3.370000e-07   0.000049          0        0.0          0   \n",
       "1      0.000000  3.480000e-07   0.000050          0        0.0          0   \n",
       "2      0.000000  3.420000e-07   0.000328          0        0.0          0   \n",
       "3      0.000000  4.280000e-07   0.000388          0        0.0          0   \n",
       "4      0.000000  2.900000e-07   0.000664          0        0.0          0   \n",
       "...         ...           ...        ...        ...        ...        ...   \n",
       "6960   0.002057  4.020000e-07   0.000033          0        0.0          0   \n",
       "6961   0.000000  3.970000e-07   0.000048          0        0.0          0   \n",
       "6962   0.000000  4.700000e-07   0.000904          0        0.0          0   \n",
       "6963   0.000000  3.490000e-07   0.001371          0        0.0          0   \n",
       "6964   0.000000  4.170000e-07   0.000361          0        0.0          0   \n",
       "\n",
       "      Feature 7  Feature 8  Feature 9  Feature 10  ...  Feature 30  \\\n",
       "0           0.0        0.0          1         0.0  ...    0.858824   \n",
       "1           0.0        0.0          1         0.0  ...    0.898039   \n",
       "2           0.0        0.0          1         0.0  ...    1.000000   \n",
       "3           0.0        0.0          1         0.0  ...    1.000000   \n",
       "4           0.0        0.0          1         0.0  ...    1.000000   \n",
       "...         ...        ...        ...         ...  ...         ...   \n",
       "6960        0.0        0.0          1         0.0  ...    1.000000   \n",
       "6961        0.0        0.0          1         0.0  ...    1.000000   \n",
       "6962        0.0        0.0          1         0.0  ...    1.000000   \n",
       "6963        0.0        0.0          1         0.0  ...    1.000000   \n",
       "6964        0.0        0.0          1         0.0  ...    1.000000   \n",
       "\n",
       "      Feature 31  Feature 32  Feature 33  Feature 34  Feature 35  Feature 36  \\\n",
       "0            1.0         0.0        0.01        0.03         0.0        0.00   \n",
       "1            1.0         0.0        0.01        0.03         0.0        0.00   \n",
       "2            1.0         0.0        0.10        0.05         0.0        0.00   \n",
       "3            1.0         0.0        0.00        0.01         0.0        0.00   \n",
       "4            1.0         0.0        0.00        0.00         0.0        0.00   \n",
       "...          ...         ...         ...         ...         ...         ...   \n",
       "6960         1.0         0.0        0.03        0.07         0.0        0.00   \n",
       "6961         1.0         0.0        0.50        0.08         0.0        0.00   \n",
       "6962         1.0         0.0        0.04        0.10         0.0        0.00   \n",
       "6963         1.0         0.0        0.02        0.05         0.0        0.00   \n",
       "6964         1.0         0.0        0.01        0.05         0.0        0.01   \n",
       "\n",
       "      Feature 37  Feature 38  Label  \n",
       "0            0.0         0.0      1  \n",
       "1            0.0         0.0      1  \n",
       "2            0.0         0.0      1  \n",
       "3            0.0         0.0      1  \n",
       "4            0.0         0.0      1  \n",
       "...          ...         ...    ...  \n",
       "6960         0.0         0.0      1  \n",
       "6961         0.0         0.0      1  \n",
       "6962         0.0         0.0      1  \n",
       "6963         0.0         0.0      1  \n",
       "6964         0.0         0.0      1  \n",
       "\n",
       "[6965 rows x 39 columns]"
      ]
     },
     "execution_count": 4,
     "metadata": {},
     "output_type": "execute_result"
    }
   ],
   "source": [
    "data2=pd.read_csv('data/network-traffic-analysis/kddcup99.csv')\n",
    "data2"
   ]
  },
  {
   "cell_type": "code",
   "execution_count": 5,
   "metadata": {},
   "outputs": [
    {
     "data": {
      "text/plain": [
       "{'-1', '1', 'f'}"
      ]
     },
     "execution_count": 5,
     "metadata": {},
     "output_type": "execute_result"
    }
   ],
   "source": [
    "set(data2['Label'])"
   ]
  },
  {
   "cell_type": "code",
   "execution_count": 6,
   "metadata": {},
   "outputs": [
    {
     "data": {
      "text/plain": [
       "(6964, 39)"
      ]
     },
     "execution_count": 6,
     "metadata": {},
     "output_type": "execute_result"
    }
   ],
   "source": [
    "#Dropping the row with 'f' because we need to vcalculate anomaly\n",
    "indexNames = data2[data2['Label'] == 'f'].index\n",
    "data2.drop(indexNames , inplace=True)\n",
    "data2.shape"
   ]
  },
  {
   "cell_type": "code",
   "execution_count": 7,
   "metadata": {},
   "outputs": [],
   "source": [
    "from sklearn.preprocessing import Normalizer\n",
    "from sklearn.neighbors import KNeighborsClassifier\n",
    "import matplotlib.pyplot as plt\n",
    "from sklearn.model_selection import train_test_split\n",
    "from sklearn.model_selection import KFold"
   ]
  },
  {
   "cell_type": "code",
   "execution_count": 8,
   "metadata": {},
   "outputs": [],
   "source": [
    "# Specifying features and target attribute\n",
    "X = data2.drop(['Label'], axis=1)\n",
    "\n",
    "#Preprocessing and scaling \n",
    "scaler = preprocessing.MinMaxScaler()\n",
    "X_data2 = X.values\n",
    "X_scaled = scaler.fit_transform(X_data2)\n",
    "X = X_scaled\n",
    "\n",
    "y = data2['Label'].values"
   ]
  },
  {
   "cell_type": "code",
   "execution_count": 9,
   "metadata": {},
   "outputs": [],
   "source": [
    "#Normalizing data\n",
    "from sklearn.preprocessing import Normalizer\n",
    "norm = Normalizer()\n",
    "X = norm.fit_transform(X)"
   ]
  },
  {
   "cell_type": "code",
   "execution_count": 11,
   "metadata": {},
   "outputs": [
    {
     "data": {
      "image/png": "[encoded data removed]",
      "text/plain": [
       "<Figure size 432x288 with 1 Axes>"
      ]
     },
     "metadata": {
      "needs_background": "light"
     },
     "output_type": "display_data"
    }
   ],
   "source": [
    "# Try different values of k ('n_neighbors' parameter) for LOF to identify a good one. Plot the relationship for k changing from 5 to 50 with 5 as the step.\n",
    "\n",
    "auc_scores = []\n",
    "for i in range(1, 101, 5):\n",
    "    detector_lof = LocalOutlierFactor(n_neighbors=i, novelty=True)\n",
    "    detector_lof.fit(X)\n",
    "    y_score = detector_lof.decision_function(X)\n",
    "    auc = roc_auc_score(y, y_score)\n",
    "    auc_scores.append(auc)\n",
    "\n",
    "# Plot the relationship between auc and k\n",
    "plt.plot(range(5, 101, 5), auc_scores, marker='x')\n",
    "plt.xlabel('K')\n",
    "plt.ylabel('AUC')\n",
    "plt.show()"
   ]
  },
  {
   "cell_type": "markdown",
   "metadata": {},
   "source": [
    "Here, the AUC score is around 0.80 with increasing k values."
   ]
  },
  {
   "cell_type": "code",
   "execution_count": 12,
   "metadata": {},
   "outputs": [
    {
     "name": "stdout",
     "output_type": "stream",
     "text": [
      "[-0.23565472  0.24570547  0.51576751 ...  0.50424892  0.50368999\n",
      "  0.42261383]\n"
     ]
    }
   ],
   "source": [
    "# Create the LOF model. Note here we need to set 'novelty' parameter as 'True' to get LOF scores\n",
    "detector_lof = LocalOutlierFactor(n_neighbors=100, novelty=True)\n",
    "\n",
    "# Train the model (Compute the LOF scores)\n",
    "detector_lof.fit(X)\n",
    "\n",
    "# Obtain anomaly score (Note that this is not the yes/no prediction as we don't know the threshold)\n",
    "y_score = detector_lof.decision_function(X)\n",
    "print(y_score)"
   ]
  },
  {
   "cell_type": "code",
   "execution_count": 15,
   "metadata": {},
   "outputs": [
    {
     "name": "stdout",
     "output_type": "stream",
     "text": [
      "\n",
      " AUC score: 0.808387\n",
      "\n"
     ]
    }
   ],
   "source": [
    "# Evaluate using AUC (Area Under Curve)\n",
    "auc = roc_auc_score(y, y_score)\n",
    "print('\\n AUC score: %f\\n' % auc)"
   ]
  },
  {
   "cell_type": "code",
   "execution_count": 16,
   "metadata": {},
   "outputs": [
    {
     "name": "stdout",
     "output_type": "stream",
     "text": [
      "\n",
      " AUC score: 0.658340\n",
      "\n"
     ]
    }
   ],
   "source": [
    "# Predict the Yes/No label. The algorithm set a default threshold. But note that this is really data-dependent\n",
    "y_pred = detector_lof.predict(X)\n",
    "auc = roc_auc_score(y, y_pred)\n",
    "print('\\n AUC score: %f\\n' % auc)"
   ]
  },
  {
   "cell_type": "markdown",
   "metadata": {},
   "source": [
    "Evaluation value of this model is comparatively better than the prediction value. For getting a better model, different values of parameters should be considered."
   ]
  },
  {
   "cell_type": "code",
   "execution_count": 17,
   "metadata": {},
   "outputs": [
    {
     "data": {
      "image/png": "[encoded data removed]",
      "text/plain": [
       "<Figure size 432x288 with 1 Axes>"
      ]
     },
     "metadata": {
      "needs_background": "light"
     },
     "output_type": "display_data"
    }
   ],
   "source": [
    "# Try different sample size ('max_samples' parameter) for iforest to identify a good one. Plot the relationship for the size from 2**5 to 2**14 with an exponential step 2**i.\n",
    "\n",
    "auc_scores = []\n",
    "sample_sizes = []\n",
    "for i in range(5, 55):\n",
    "    sample_sizes.append(2**i)\n",
    "    detector_if = IsolationForest(max_samples=2**i)\n",
    "    detector_if.fit(X)\n",
    "    y_score = detector_if.decision_function(X)\n",
    "    auc = roc_auc_score(y, y_score)\n",
    "    auc_scores.append(auc)\n",
    "\n",
    "# Plot the relationship between auc and sample size\n",
    "plt.plot(sample_sizes, auc_scores, marker='x')\n",
    "plt.xscale('log')\n",
    "plt.xlabel('Sample size (log)')\n",
    "plt.ylabel('AUC')\n",
    "plt.show()"
   ]
  },
  {
   "cell_type": "code",
   "execution_count": 18,
   "metadata": {},
   "outputs": [
    {
     "name": "stdout",
     "output_type": "stream",
     "text": [
      "[0.818251596850592, 0.8349816171576423, 0.8636480805117667, 0.9284442717901427, 0.9394334357157207, 0.9210956730734321, 0.9191197293038724, 0.9143370437872286, 0.9307545315703232, 0.8988774243205369, 0.9090757266608094, 0.9212290969292545, 0.9194280261498656, 0.9137343673228336, 0.9229560433442977, 0.9231042920729893, 0.9191705574394237, 0.9216786838901434, 0.920961644120758, 0.9278216271296383, 0.9323544076464878, 0.924459709021026, 0.9019107748386207, 0.9083768397969778, 0.9245674162606465, 0.9246466839482328, 0.9183349186870851, 0.9249286590811724, 0.9218432702338336, 0.9215806582001514, 0.923967160183659, 0.9266907011136203, 0.9210294149681599, 0.9140066609061447, 0.9128678686310532, 0.9345230747633466, 0.9225772527150695, 0.921068746263527, 0.9095083709098478, 0.9136091122745107, 0.9298257079028069, 0.938234133755449, 0.9209301790844643, 0.923545407677953, 0.9336626270400841, 0.9155175877450945, 0.9242497404134505, 0.9312616027321333, 0.9100995505340584, 0.9197151446060455]\n"
     ]
    }
   ],
   "source": [
    "print(auc_scores)"
   ]
  },
  {
   "cell_type": "markdown",
   "metadata": {},
   "source": [
    "The highest value of the auc_score is around 0.93, for max_samples 2**12. "
   ]
  },
  {
   "cell_type": "markdown",
   "metadata": {},
   "source": [
    "This model determines outputs very close to the original values."
   ]
  },
  {
   "cell_type": "markdown",
   "metadata": {},
   "source": [
    "Creating an isolation forest model for the dataset. It isolates the outliers by randomly selecting a feature from the given set of features and then randomly selecting a split value between the maximum and minimum values of the selected feature"
   ]
  },
  {
   "cell_type": "code",
   "execution_count": 19,
   "metadata": {},
   "outputs": [
    {
     "name": "stdout",
     "output_type": "stream",
     "text": [
      "[0.16414358 0.16354442 0.15457951 ... 0.14965996 0.1541559  0.14730206]\n"
     ]
    }
   ],
   "source": [
    "# Create the iForest model\n",
    "detector_if = IsolationForest()\n",
    "\n",
    "# Train the model\n",
    "detector_if.fit(X)\n",
    "\n",
    "# Obtain anomaly score (Note that this is not the yes/no prediction as we don't know the threshold)\n",
    "y_score = detector_if.decision_function(X)\n",
    "print(y_score)"
   ]
  },
  {
   "cell_type": "code",
   "execution_count": 20,
   "metadata": {},
   "outputs": [
    {
     "name": "stdout",
     "output_type": "stream",
     "text": [
      "\n",
      " AUC score: 0.897198\n",
      "\n"
     ]
    }
   ],
   "source": [
    "# Evaluate using AUC (Area Under Curve)\n",
    "auc = roc_auc_score(y, y_score)\n",
    "print('\\n AUC score: %f\\n' % auc)"
   ]
  },
  {
   "cell_type": "code",
   "execution_count": 21,
   "metadata": {},
   "outputs": [
    {
     "name": "stdout",
     "output_type": "stream",
     "text": [
      "\n",
      " AUC score: 0.733913\n",
      "\n"
     ]
    }
   ],
   "source": [
    "# Predict the Yes/No label. The algorithm set a default threshold. But note that this is really data-dependent\n",
    "y_pred = detector_if.predict(X)\n",
    "print('\\n AUC score: %f\\n' % roc_auc_score(y, y_pred))"
   ]
  },
  {
   "cell_type": "markdown",
   "metadata": {},
   "source": [
    "Isolation Forest model provides a comparatively better value than the LOF model for this dataset too. "
   ]
  }
 ],
 "metadata": {
  "kernelspec": {
   "display_name": "Python 3",
   "language": "python",
   "name": "python3"
  },
  "language_info": {
   "codemirror_mode": {
    "name": "ipython",
    "version": 3
   },
   "file_extension": ".py",
   "mimetype": "text/x-python",
   "name": "python",
   "nbconvert_exporter": "python",
   "pygments_lexer": "ipython3",
   "version": "3.8.3"
  }
 },
 "nbformat": 4,
 "nbformat_minor": 2
}
